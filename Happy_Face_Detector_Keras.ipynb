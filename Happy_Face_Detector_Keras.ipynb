{
 "cells": [
  {
   "cell_type": "code",
   "execution_count": 2,
   "metadata": {},
   "outputs": [],
   "source": [
    "import numpy as np\n",
    "from keras import layers\n",
    "from keras.layers import Input, Dense, Activation, ZeroPadding2D, BatchNormalization, Flatten, Conv2D\n",
    "from keras.layers import AveragePooling2D, MaxPooling2D, Dropout, GlobalMaxPooling2D, GlobalAveragePooling2D\n",
    "from keras.models import Model\n",
    "from keras.preprocessing import image\n",
    "from keras.utils import layer_utils\n",
    "from keras.utils.data_utils import get_file\n",
    "from keras.applications.imagenet_utils import preprocess_input\n",
    "import pydot\n",
    "from IPython.display import SVG\n",
    "from keras.utils.vis_utils import model_to_dot\n",
    "from keras.utils import plot_model\n",
    "from kt_utils import *\n",
    "\n",
    "import keras.backend as K\n",
    "K.set_image_data_format('channels_last')\n",
    "import matplotlib.pyplot as plt\n",
    "from matplotlib.pyplot import imshow\n",
    "\n",
    "%matplotlib inline"
   ]
  },
  {
   "cell_type": "code",
   "execution_count": 3,
   "metadata": {},
   "outputs": [
    {
     "name": "stdout",
     "output_type": "stream",
     "text": [
      "number of training examples = 600\n",
      "number of test examples = 150\n",
      "X_train shape: (600, 64, 64, 3)\n",
      "Y_train shape: (600, 1)\n",
      "X_test shape: (150, 64, 64, 3)\n",
      "Y_test shape: (150, 1)\n"
     ]
    }
   ],
   "source": [
    "X_train_orig, Y_train_orig, X_test_orig, Y_test_orig, classes = load_dataset()\n",
    "\n",
    "# Normalize image vectors\n",
    "X_train = X_train_orig/255.\n",
    "X_test = X_test_orig/255.\n",
    "\n",
    "# Reshape\n",
    "Y_train = Y_train_orig.T\n",
    "Y_test = Y_test_orig.T\n",
    "\n",
    "print (\"number of training examples = \" + str(X_train.shape[0]))\n",
    "print (\"number of test examples = \" + str(X_test.shape[0]))\n",
    "print (\"X_train shape: \" + str(X_train.shape))\n",
    "print (\"Y_train shape: \" + str(Y_train.shape))\n",
    "print (\"X_test shape: \" + str(X_test.shape))\n",
    "print (\"Y_test shape: \" + str(Y_test.shape))"
   ]
  },
  {
   "cell_type": "code",
   "execution_count": 4,
   "metadata": {
    "collapsed": true
   },
   "outputs": [],
   "source": [
    "# GRADED FUNCTION: HappyModel\n",
    "\n",
    "def HappyModel(input_shape):\n",
    "    \"\"\"\n",
    "    Implementation of the HappyModel.\n",
    "    \n",
    "    Arguments:\n",
    "    input_shape -- shape of the images of the dataset\n",
    "\n",
    "    Returns:\n",
    "    model -- a Model() instance in Keras\n",
    "    \"\"\"\n",
    "    \n",
    "    \n",
    "    \n",
    "    x_inp=Input(input_shape)\n",
    "        \n",
    "    X= Conv2D(16,(4,4),padding='same')(x_inp)\n",
    "    X= BatchNormalization(axis=3)(X)\n",
    "    X=Activation('relu')(X)\n",
    "    \n",
    "    \n",
    "    X=MaxPooling2D(2,2)(X)\n",
    "    \n",
    "    \n",
    "    X= Conv2D(32,(2,2),padding='valid')(X)\n",
    "    X=Activation('relu')(X)\n",
    "    \n",
    "    X=Flatten()(X)\n",
    "    X=Dense(1, activation='sigmoid')(X)\\\n",
    "\n",
    "    \n",
    "    \n",
    "    model= Model(inputs=x_inp, outputs=X)\n",
    "    \n",
    "    \n",
    "    \n",
    "    \n",
    "    \n",
    "    return model"
   ]
  },
  {
   "cell_type": "code",
   "execution_count": 5,
   "metadata": {
    "collapsed": true
   },
   "outputs": [],
   "source": [
    "happyModel = HappyModel(X_train.shape[1:])\n"
   ]
  },
  {
   "cell_type": "code",
   "execution_count": 6,
   "metadata": {
    "collapsed": true
   },
   "outputs": [],
   "source": [
    "happyModel.compile(optimizer='adam', loss='binary_crossentropy', metrics=[\"accuracy\"])"
   ]
  },
  {
   "cell_type": "code",
   "execution_count": 7,
   "metadata": {},
   "outputs": [
    {
     "name": "stdout",
     "output_type": "stream",
     "text": [
      "Epoch 1/40\n",
      "600/600 [==============================] - 5s - loss: 1.3585 - acc: 0.5600     \n",
      "Epoch 2/40\n",
      "600/600 [==============================] - 5s - loss: 0.4584 - acc: 0.7933     \n",
      "Epoch 3/40\n",
      "600/600 [==============================] - 5s - loss: 0.2465 - acc: 0.9283     \n",
      "Epoch 4/40\n",
      "600/600 [==============================] - 5s - loss: 0.1733 - acc: 0.9417     \n",
      "Epoch 5/40\n",
      "600/600 [==============================] - 5s - loss: 0.1432 - acc: 0.9467     \n",
      "Epoch 6/40\n",
      "600/600 [==============================] - 5s - loss: 0.1051 - acc: 0.9633     \n",
      "Epoch 7/40\n",
      "600/600 [==============================] - 5s - loss: 0.0880 - acc: 0.9717     \n",
      "Epoch 8/40\n",
      "600/600 [==============================] - 5s - loss: 0.0701 - acc: 0.9783     \n",
      "Epoch 9/40\n",
      "600/600 [==============================] - 5s - loss: 0.0537 - acc: 0.9833     \n",
      "Epoch 10/40\n",
      "600/600 [==============================] - 5s - loss: 0.0458 - acc: 0.9867     \n",
      "Epoch 11/40\n",
      "600/600 [==============================] - 5s - loss: 0.0447 - acc: 0.9833     \n",
      "Epoch 12/40\n",
      "600/600 [==============================] - 5s - loss: 0.0357 - acc: 0.9900     \n",
      "Epoch 13/40\n",
      "600/600 [==============================] - 5s - loss: 0.0287 - acc: 0.9950     \n",
      "Epoch 14/40\n",
      "600/600 [==============================] - 5s - loss: 0.0302 - acc: 0.9933     \n",
      "Epoch 15/40\n",
      "600/600 [==============================] - 5s - loss: 0.0247 - acc: 0.9933     \n",
      "Epoch 16/40\n",
      "600/600 [==============================] - 5s - loss: 0.0200 - acc: 0.9983     \n",
      "Epoch 17/40\n",
      "600/600 [==============================] - 5s - loss: 0.0196 - acc: 0.9967     \n",
      "Epoch 18/40\n",
      "600/600 [==============================] - 5s - loss: 0.0207 - acc: 0.9950     \n",
      "Epoch 19/40\n",
      "600/600 [==============================] - 5s - loss: 0.0167 - acc: 0.9983     \n",
      "Epoch 20/40\n",
      "600/600 [==============================] - 5s - loss: 0.0193 - acc: 0.9950     \n",
      "Epoch 21/40\n",
      "600/600 [==============================] - 5s - loss: 0.0120 - acc: 0.9983     \n",
      "Epoch 22/40\n",
      "600/600 [==============================] - 5s - loss: 0.0106 - acc: 1.0000     \n",
      "Epoch 23/40\n",
      "600/600 [==============================] - 5s - loss: 0.0128 - acc: 0.9983     \n",
      "Epoch 24/40\n",
      "600/600 [==============================] - 5s - loss: 0.0115 - acc: 0.9983     \n",
      "Epoch 25/40\n",
      "600/600 [==============================] - 5s - loss: 0.0085 - acc: 1.0000     \n",
      "Epoch 26/40\n",
      "600/600 [==============================] - 5s - loss: 0.0090 - acc: 0.9983     \n",
      "Epoch 27/40\n",
      "600/600 [==============================] - 5s - loss: 0.0147 - acc: 0.9967     \n",
      "Epoch 28/40\n",
      "600/600 [==============================] - 5s - loss: 0.0114 - acc: 0.9967     \n",
      "Epoch 29/40\n",
      "600/600 [==============================] - 5s - loss: 0.0098 - acc: 0.9983     \n",
      "Epoch 30/40\n",
      "600/600 [==============================] - 5s - loss: 0.0076 - acc: 0.9983     \n",
      "Epoch 31/40\n",
      "600/600 [==============================] - 5s - loss: 0.0055 - acc: 1.0000     \n",
      "Epoch 32/40\n",
      "600/600 [==============================] - 5s - loss: 0.0061 - acc: 1.0000     \n",
      "Epoch 33/40\n",
      "600/600 [==============================] - 5s - loss: 0.0045 - acc: 1.0000     \n",
      "Epoch 34/40\n",
      "600/600 [==============================] - 5s - loss: 0.0044 - acc: 1.0000     \n",
      "Epoch 35/40\n",
      "600/600 [==============================] - 5s - loss: 0.0062 - acc: 1.0000     \n",
      "Epoch 36/40\n",
      "600/600 [==============================] - 5s - loss: 0.0066 - acc: 1.0000     \n",
      "Epoch 37/40\n",
      "600/600 [==============================] - 5s - loss: 0.0040 - acc: 1.0000     \n",
      "Epoch 38/40\n",
      "600/600 [==============================] - 5s - loss: 0.0029 - acc: 1.0000     \n",
      "Epoch 39/40\n",
      "600/600 [==============================] - 5s - loss: 0.0028 - acc: 1.0000     \n",
      "Epoch 40/40\n",
      "600/600 [==============================] - 5s - loss: 0.0031 - acc: 1.0000     \n"
     ]
    },
    {
     "data": {
      "text/plain": [
       "<keras.callbacks.History at 0x7f3e8ed55f98>"
      ]
     },
     "execution_count": 7,
     "metadata": {},
     "output_type": "execute_result"
    }
   ],
   "source": [
    "happyModel.fit(X_train, Y_train, epochs=40, batch_size=64)"
   ]
  },
  {
   "cell_type": "code",
   "execution_count": 8,
   "metadata": {
    "scrolled": true
   },
   "outputs": [
    {
     "name": "stdout",
     "output_type": "stream",
     "text": [
      "150/150 [==============================] - 0s     \n",
      "\n",
      "Loss = 0.0934212942918\n",
      "Test Accuracy = 0.960000003974\n"
     ]
    }
   ],
   "source": [
    "preds = happyModel.evaluate(X_test, Y_test, batch_size=64)\n",
    "print()\n",
    "print (\"Loss = \" + str(preds[0]))\n",
    "print (\"Test Accuracy = \" + str(preds[1]))"
   ]
  },
  {
   "cell_type": "code",
   "execution_count": 35,
   "metadata": {},
   "outputs": [],
   "source": [
    "def predimg(path):\n",
    "    img_path= path\n",
    "    img = image.load_img(img_path, target_size=(64, 64))\n",
    "    imshow(img)\n",
    "\n",
    "    x = image.img_to_array(img)\n",
    "    x = np.expand_dims(x, axis=0)\n",
    "    x = preprocess_input(x)\n",
    "    res= happyModel.predict(x)\n",
    "    res=int(res[0][0])\n",
    "    if res<1: \n",
    "        res1='unhappy'\n",
    "    else:\n",
    "        res1='happy'    \n",
    "\n",
    "\n",
    "    return res,res1\n",
    "    \n",
    "    "
   ]
  },
  {
   "cell_type": "code",
   "execution_count": 36,
   "metadata": {
    "scrolled": true
   },
   "outputs": [
    {
     "name": "stdout",
     "output_type": "stream",
     "text": [
      "0- unhappy\n"
     ]
    },
    {
     "data": {
      "image/png": "[encoded data removed]",
      "text/plain": [
       "<matplotlib.figure.Figure at 0x7f3e8078cba8>"
      ]
     },
     "metadata": {},
     "output_type": "display_data"
    }
   ],
   "source": [
    "\n",
    "\n",
    "res,res1=predimg('images/vh6to.jpg')\n",
    "print(str(res)+'- '+res1)"
   ]
  },
  {
   "cell_type": "code",
   "execution_count": 37,
   "metadata": {},
   "outputs": [
    {
     "name": "stdout",
     "output_type": "stream",
     "text": [
      "1- happy\n"
     ]
    },
    {
     "data": {
      "image/png": "[encoded data removed]",
      "text/plain": [
       "<matplotlib.figure.Figure at 0x7f3e80666908>"
      ]
     },
     "metadata": {},
     "output_type": "display_data"
    }
   ],
   "source": [
    "res,res1=predimg('images/bigsmile.jpg')\n",
    "print(str(res)+'- '+res1)"
   ]
  },
  {
   "cell_type": "code",
   "execution_count": 12,
   "metadata": {
    "scrolled": false
   },
   "outputs": [
    {
     "name": "stdout",
     "output_type": "stream",
     "text": [
      "_________________________________________________________________\n",
      "Layer (type)                 Output Shape              Param #   \n",
      "=================================================================\n",
      "input_1 (InputLayer)         (None, 64, 64, 3)         0         \n",
      "_________________________________________________________________\n",
      "conv2d_1 (Conv2D)            (None, 64, 64, 16)        784       \n",
      "_________________________________________________________________\n",
      "batch_normalization_1 (Batch (None, 64, 64, 16)        64        \n",
      "_________________________________________________________________\n",
      "activation_1 (Activation)    (None, 64, 64, 16)        0         \n",
      "_________________________________________________________________\n",
      "max_pooling2d_1 (MaxPooling2 (None, 32, 32, 16)        0         \n",
      "_________________________________________________________________\n",
      "conv2d_2 (Conv2D)            (None, 31, 31, 32)        2080      \n",
      "_________________________________________________________________\n",
      "activation_2 (Activation)    (None, 31, 31, 32)        0         \n",
      "_________________________________________________________________\n",
      "flatten_1 (Flatten)          (None, 30752)             0         \n",
      "_________________________________________________________________\n",
      "dense_1 (Dense)              (None, 1)                 30753     \n",
      "=================================================================\n",
      "Total params: 33,681\n",
      "Trainable params: 33,649\n",
      "Non-trainable params: 32\n",
      "_________________________________________________________________\n"
     ]
    }
   ],
   "source": [
    "happyModel.summary()"
   ]
  },
  {
   "cell_type": "code",
   "execution_count": 34,
   "metadata": {},
   "outputs": [
    {
     "data": {
      "image/svg+xml": [
       "<svg height=\"629pt\" viewBox=\"0.00 0.00 268.00 629.00\" width=\"268pt\" xmlns=\"http://www.w3.org/2000/svg\" xmlns:xlink=\"http://www.w3.org/1999/xlink\">\n",
       "<g class=\"graph\" id=\"graph0\" transform=\"scale(1 1) rotate(0) translate(4 625)\">\n",
       "<title>G</title>\n",
       "<polygon fill=\"white\" points=\"-4,4 -4,-625 264,-625 264,4 -4,4\" stroke=\"none\"/>\n",
       "<!-- 139906900291536 -->\n",
       "<g class=\"node\" id=\"node1\"><title>139906900291536</title>\n",
       "<polygon fill=\"none\" points=\"67,-584.5 67,-620.5 193,-620.5 193,-584.5 67,-584.5\" stroke=\"black\"/>\n",
       "<text font-family=\"Times,serif\" font-size=\"14.00\" text-anchor=\"middle\" x=\"130\" y=\"-598.8\">input_1: InputLayer</text>\n",
       "</g>\n",
       "<!-- 139906662375376 -->\n",
       "<g class=\"node\" id=\"node2\"><title>139906662375376</title>\n",
       "<polygon fill=\"none\" points=\"66.5,-511.5 66.5,-547.5 193.5,-547.5 193.5,-511.5 66.5,-511.5\" stroke=\"black\"/>\n",
       "<text font-family=\"Times,serif\" font-size=\"14.00\" text-anchor=\"middle\" x=\"130\" y=\"-525.8\">conv2d_1: Conv2D</text>\n",
       "</g>\n",
       "<!-- 139906900291536&#45;&gt;139906662375376 -->\n",
       "<g class=\"edge\" id=\"edge1\"><title>139906900291536-&gt;139906662375376</title>\n",
       "<path d=\"M130,-584.313C130,-576.289 130,-566.547 130,-557.569\" fill=\"none\" stroke=\"black\"/>\n",
       "<polygon fill=\"black\" points=\"133.5,-557.529 130,-547.529 126.5,-557.529 133.5,-557.529\" stroke=\"black\"/>\n",
       "</g>\n",
       "<!-- 139906662371624 -->\n",
       "<g class=\"node\" id=\"node3\"><title>139906662371624</title>\n",
       "<polygon fill=\"none\" points=\"0,-438.5 0,-474.5 260,-474.5 260,-438.5 0,-438.5\" stroke=\"black\"/>\n",
       "<text font-family=\"Times,serif\" font-size=\"14.00\" text-anchor=\"middle\" x=\"130\" y=\"-452.8\">batch_normalization_1: BatchNormalization</text>\n",
       "</g>\n",
       "<!-- 139906662375376&#45;&gt;139906662371624 -->\n",
       "<g class=\"edge\" id=\"edge2\"><title>139906662375376-&gt;139906662371624</title>\n",
       "<path d=\"M130,-511.313C130,-503.289 130,-493.547 130,-484.569\" fill=\"none\" stroke=\"black\"/>\n",
       "<polygon fill=\"black\" points=\"133.5,-484.529 130,-474.529 126.5,-484.529 133.5,-484.529\" stroke=\"black\"/>\n",
       "</g>\n",
       "<!-- 139906662393840 -->\n",
       "<g class=\"node\" id=\"node4\"><title>139906662393840</title>\n",
       "<polygon fill=\"none\" points=\"56.5,-365.5 56.5,-401.5 203.5,-401.5 203.5,-365.5 56.5,-365.5\" stroke=\"black\"/>\n",
       "<text font-family=\"Times,serif\" font-size=\"14.00\" text-anchor=\"middle\" x=\"130\" y=\"-379.8\">activation_1: Activation</text>\n",
       "</g>\n",
       "<!-- 139906662371624&#45;&gt;139906662393840 -->\n",
       "<g class=\"edge\" id=\"edge3\"><title>139906662371624-&gt;139906662393840</title>\n",
       "<path d=\"M130,-438.313C130,-430.289 130,-420.547 130,-411.569\" fill=\"none\" stroke=\"black\"/>\n",
       "<polygon fill=\"black\" points=\"133.5,-411.529 130,-401.529 126.5,-411.529 133.5,-411.529\" stroke=\"black\"/>\n",
       "</g>\n",
       "<!-- 139906662429528 -->\n",
       "<g class=\"node\" id=\"node5\"><title>139906662429528</title>\n",
       "<polygon fill=\"none\" points=\"25.5,-292.5 25.5,-328.5 234.5,-328.5 234.5,-292.5 25.5,-292.5\" stroke=\"black\"/>\n",
       "<text font-family=\"Times,serif\" font-size=\"14.00\" text-anchor=\"middle\" x=\"130\" y=\"-306.8\">max_pooling2d_1: MaxPooling2D</text>\n",
       "</g>\n",
       "<!-- 139906662393840&#45;&gt;139906662429528 -->\n",
       "<g class=\"edge\" id=\"edge4\"><title>139906662393840-&gt;139906662429528</title>\n",
       "<path d=\"M130,-365.313C130,-357.289 130,-347.547 130,-338.569\" fill=\"none\" stroke=\"black\"/>\n",
       "<polygon fill=\"black\" points=\"133.5,-338.529 130,-328.529 126.5,-338.529 133.5,-338.529\" stroke=\"black\"/>\n",
       "</g>\n",
       "<!-- 139906661794032 -->\n",
       "<g class=\"node\" id=\"node6\"><title>139906661794032</title>\n",
       "<polygon fill=\"none\" points=\"66.5,-219.5 66.5,-255.5 193.5,-255.5 193.5,-219.5 66.5,-219.5\" stroke=\"black\"/>\n",
       "<text font-family=\"Times,serif\" font-size=\"14.00\" text-anchor=\"middle\" x=\"130\" y=\"-233.8\">conv2d_2: Conv2D</text>\n",
       "</g>\n",
       "<!-- 139906662429528&#45;&gt;139906661794032 -->\n",
       "<g class=\"edge\" id=\"edge5\"><title>139906662429528-&gt;139906661794032</title>\n",
       "<path d=\"M130,-292.313C130,-284.289 130,-274.547 130,-265.569\" fill=\"none\" stroke=\"black\"/>\n",
       "<polygon fill=\"black\" points=\"133.5,-265.529 130,-255.529 126.5,-265.529 133.5,-265.529\" stroke=\"black\"/>\n",
       "</g>\n",
       "<!-- 139906661650672 -->\n",
       "<g class=\"node\" id=\"node7\"><title>139906661650672</title>\n",
       "<polygon fill=\"none\" points=\"56.5,-146.5 56.5,-182.5 203.5,-182.5 203.5,-146.5 56.5,-146.5\" stroke=\"black\"/>\n",
       "<text font-family=\"Times,serif\" font-size=\"14.00\" text-anchor=\"middle\" x=\"130\" y=\"-160.8\">activation_2: Activation</text>\n",
       "</g>\n",
       "<!-- 139906661794032&#45;&gt;139906661650672 -->\n",
       "<g class=\"edge\" id=\"edge6\"><title>139906661794032-&gt;139906661650672</title>\n",
       "<path d=\"M130,-219.313C130,-211.289 130,-201.547 130,-192.569\" fill=\"none\" stroke=\"black\"/>\n",
       "<polygon fill=\"black\" points=\"133.5,-192.529 130,-182.529 126.5,-192.529 133.5,-192.529\" stroke=\"black\"/>\n",
       "</g>\n",
       "<!-- 139906661210432 -->\n",
       "<g class=\"node\" id=\"node8\"><title>139906661210432</title>\n",
       "<polygon fill=\"none\" points=\"75.5,-73.5 75.5,-109.5 184.5,-109.5 184.5,-73.5 75.5,-73.5\" stroke=\"black\"/>\n",
       "<text font-family=\"Times,serif\" font-size=\"14.00\" text-anchor=\"middle\" x=\"130\" y=\"-87.8\">flatten_1: Flatten</text>\n",
       "</g>\n",
       "<!-- 139906661650672&#45;&gt;139906661210432 -->\n",
       "<g class=\"edge\" id=\"edge7\"><title>139906661650672-&gt;139906661210432</title>\n",
       "<path d=\"M130,-146.313C130,-138.289 130,-128.547 130,-119.569\" fill=\"none\" stroke=\"black\"/>\n",
       "<polygon fill=\"black\" points=\"133.5,-119.529 130,-109.529 126.5,-119.529 133.5,-119.529\" stroke=\"black\"/>\n",
       "</g>\n",
       "<!-- 139906661306944 -->\n",
       "<g class=\"node\" id=\"node9\"><title>139906661306944</title>\n",
       "<polygon fill=\"none\" points=\"78,-0.5 78,-36.5 182,-36.5 182,-0.5 78,-0.5\" stroke=\"black\"/>\n",
       "<text font-family=\"Times,serif\" font-size=\"14.00\" text-anchor=\"middle\" x=\"130\" y=\"-14.8\">dense_1: Dense</text>\n",
       "</g>\n",
       "<!-- 139906661210432&#45;&gt;139906661306944 -->\n",
       "<g class=\"edge\" id=\"edge8\"><title>139906661210432-&gt;139906661306944</title>\n",
       "<path d=\"M130,-73.3129C130,-65.2895 130,-55.5475 130,-46.5691\" fill=\"none\" stroke=\"black\"/>\n",
       "<polygon fill=\"black\" points=\"133.5,-46.5288 130,-36.5288 126.5,-46.5289 133.5,-46.5288\" stroke=\"black\"/>\n",
       "</g>\n",
       "</g>\n",
       "</svg>"
      ],
      "text/plain": [
       "<IPython.core.display.SVG object>"
      ]
     },
     "execution_count": 34,
     "metadata": {},
     "output_type": "execute_result"
    }
   ],
   "source": [
    "plot_model(happyModel, to_file='HappyModel.png')\n",
    "SVG(model_to_dot(happyModel).create(prog='dot', format='svg'))"
   ]
  },
  {
   "cell_type": "markdown",
   "metadata": {},
   "source": [
    "## End."
   ]
  }
 ],
 "metadata": {
  "kernelspec": {
   "display_name": "Python 3",
   "language": "python",
   "name": "python3"
  },
  "language_info": {
   "codemirror_mode": {
    "name": "ipython",
    "version": 3
   },
   "file_extension": ".py",
   "mimetype": "text/x-python",
   "name": "python",
   "nbconvert_exporter": "python",
   "pygments_lexer": "ipython3",
   "version": "3.6.0"
  }
 },
 "nbformat": 4,
 "nbformat_minor": 2
}
